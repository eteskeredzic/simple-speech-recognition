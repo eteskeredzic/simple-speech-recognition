{
 "cells": [
  {
   "cell_type": "markdown",
   "metadata": {
    "id": "4Ye_Y5l5ksQf"
   },
   "source": [
    "# Converting speech to written text using deep learning\n",
    "## Seminar paper: Machine Learning and Intelligent System Control\n",
    "## Students: Hana Bezdrob & Edvin Teskeredžić\n",
    "## Year: 2020/2021\n",
    "\n",
    "\n",
    "The goal of this seminar paper is to demonstrate the use of deep neural networks in simple speech recognition. We develop a network based on:\n",
    "\n",
    "- DeepSpeech2: https://arxiv.org/abs/1512.02595\n",
    "- Wav2Letter++: https://arxiv.org/abs/1812.07625\n",
    "\n",
    "The model is trained and tested on a simple dataset of 10 different commands."
   ]
  },
  {
   "cell_type": "markdown",
   "metadata": {
    "id": "dGlyeA2pTTkr"
   },
   "source": [
    "## Import libraries:"
   ]
  },
  {
   "cell_type": "code",
   "execution_count": null,
   "metadata": {
    "id": "PKmlKm-CSKvl"
   },
   "outputs": [],
   "source": [
    "import os\n",
    "import matplotlib.pyplot as plt\n",
    "import numpy as np\n",
    "import warnings\n",
    "import pickle"
   ]
  },
  {
   "cell_type": "markdown",
   "metadata": {
    "id": "4zuujC2DTaKg"
   },
   "source": [
    "## Load all data:"
   ]
  },
  {
   "cell_type": "code",
   "execution_count": null,
   "metadata": {
    "id": "DM97QxnUTb3X"
   },
   "outputs": [],
   "source": [
    "targets = [\"left\", \"go\", \"yes\", \"down\", \"up\", \"on\", \"right\", \"no\", \"off\", \"stop\"]"
   ]
  },
  {
   "cell_type": "code",
   "execution_count": null,
   "metadata": {
    "colab": {
     "base_uri": "https://localhost:8080/"
    },
    "id": "_mxdkRGvBXKk",
    "outputId": "06e73c69-ee88-4258-b179-d0c1c60c7c70"
   },
   "outputs": [
    {
     "name": "stdout",
     "output_type": "stream",
     "text": [
      "Shape of train tensor:\n",
      "(12786, 8000, 1)\n",
      "Shape of test tensor:\n",
      "(4263, 8000, 1)\n",
      "Shape of validation tensor:\n",
      "(4263, 8000, 1)\n",
      "Shape of train labels:\n",
      "(12786, 10)\n",
      "Shape of test labels:\n",
      "(4263, 10)\n",
      "Shape of validation labels:\n",
      "(4263, 10)\n"
     ]
    }
   ],
   "source": [
    "# load from pickle files\n",
    "\n",
    "x_train = pickle.load(open(\"xtrain.p\", \"rb\"))\n",
    "x_test = pickle.load(open(\"xtest.p\", \"rb\"))\n",
    "x_valid = pickle.load(open(\"xvalid.p\", \"rb\"))\n",
    "\n",
    "y_train = pickle.load(open(\"ytrain.p\", \"rb\"))\n",
    "y_test = pickle.load(open(\"ytest.p\", \"rb\"))\n",
    "y_valid = pickle.load(open(\"yvalid.p\", \"rb\"))\n",
    "\n",
    "print('Shape of train tensor:')\n",
    "print(x_train.shape)\n",
    "print('Shape of test tensor:')\n",
    "print(x_test.shape)\n",
    "print('Shape of validation tensor:')\n",
    "print(x_valid.shape)\n",
    "print('Shape of train labels:')\n",
    "print(y_train.shape)\n",
    "print('Shape of test labels:')\n",
    "print(y_test.shape)\n",
    "print('Shape of validation labels:')\n",
    "print(y_valid.shape)"
   ]
  },
  {
   "cell_type": "markdown",
   "metadata": {
    "id": "PP72b-wrT7yt"
   },
   "source": [
    "## Define model architecture"
   ]
  },
  {
   "cell_type": "code",
   "execution_count": null,
   "metadata": {
    "id": "Ehwo807AT-av"
   },
   "outputs": [],
   "source": [
    "from tensorflow.compat.v1 import ConfigProto\n",
    "from tensorflow.compat.v1 import Session\n",
    "from tensorflow.keras import models\n",
    "from tensorflow.keras import layers\n",
    "from tensorflow.keras.layers import GRU\n",
    "\n",
    "from keras.callbacks import EarlyStopping, ModelCheckpoint\n",
    "from keras import backend as K\n",
    "\n",
    "K.clear_session()\n",
    "\n",
    "model = models.Sequential()\n",
    "\n",
    "\n",
    "model.add(layers.BatchNormalization(axis=-1, \n",
    "                                    momentum=0.99, \n",
    "                                    epsilon=1e-3, \n",
    "                                    center=True, \n",
    "                                    scale=True, \n",
    "                                    input_shape=(8000, 1)))\n",
    "\n",
    "# first conv block\n",
    "model.add(layers.Conv1D(8, 13, \n",
    "                        padding='valid', \n",
    "                        activation='relu', \n",
    "                        strides=1))\n",
    "model.add(layers.MaxPooling1D(3))\n",
    "model.add(layers.Dropout(0.3))\n",
    "\n",
    "# second conv block\n",
    "model.add(layers.Conv1D(16, 11, \n",
    "                        padding='valid', \n",
    "                        activation='relu', \n",
    "                        strides=1))\n",
    "model.add(layers.MaxPooling1D(3))\n",
    "model.add(layers.Dropout(0.3))\n",
    "\n",
    "# third conv block\n",
    "model.add(layers.Conv1D(32, 9, \n",
    "                        padding='valid', \n",
    "                        activation='relu', \n",
    "                        strides=1))\n",
    "model.add(layers.MaxPooling1D(3))\n",
    "model.add(layers.Dropout(0.3))\n",
    "\n",
    "\n",
    "model.add(layers.BatchNormalization(axis=-1, \n",
    "                                    momentum=0.99, \n",
    "                                    epsilon=1e-3, \n",
    "                                    center=True, \n",
    "                                    scale=True))\n",
    "\n",
    "# GRU/RNN layers\n",
    "model.add(layers.Bidirectional(GRU(128, return_sequences=True), merge_mode='sum'))\n",
    "model.add(layers.Bidirectional(GRU(128, return_sequences=True), merge_mode='sum'))\n",
    "model.add(layers.Bidirectional(GRU(128, return_sequences=True), merge_mode='sum'))\n",
    "\n",
    "model.add(layers.BatchNormalization(axis=-1, \n",
    "                                    momentum=0.99, \n",
    "                                    epsilon=1e-3, \n",
    "                                    center=True, \n",
    "                                    scale=True))\n",
    "\n",
    "model.add(layers.Flatten())\n",
    "\n",
    "model.add(layers.Dense(256, activation='relu'))\n",
    "model.add(layers.Dense(len(targets), activation='softmax'))"
   ]
  },
  {
   "cell_type": "markdown",
   "metadata": {
    "id": "uvpF4motULHQ"
   },
   "source": [
    "## Training:"
   ]
  },
  {
   "cell_type": "code",
   "execution_count": null,
   "metadata": {
    "colab": {
     "base_uri": "https://localhost:8080/"
    },
    "id": "sMLl8vMGUMe0",
    "outputId": "cc663097-285a-4257-dfe2-31c50336274f"
   },
   "outputs": [
    {
     "name": "stdout",
     "output_type": "stream",
     "text": [
      "Model: \"sequential\"\n",
      "_________________________________________________________________\n",
      "Layer (type)                 Output Shape              Param #   \n",
      "=================================================================\n",
      "batch_normalization (BatchNo (None, 8000, 1)           4         \n",
      "_________________________________________________________________\n",
      "conv1d (Conv1D)              (None, 7988, 8)           112       \n",
      "_________________________________________________________________\n",
      "max_pooling1d (MaxPooling1D) (None, 2662, 8)           0         \n",
      "_________________________________________________________________\n",
      "dropout (Dropout)            (None, 2662, 8)           0         \n",
      "_________________________________________________________________\n",
      "conv1d_1 (Conv1D)            (None, 2652, 16)          1424      \n",
      "_________________________________________________________________\n",
      "max_pooling1d_1 (MaxPooling1 (None, 884, 16)           0         \n",
      "_________________________________________________________________\n",
      "dropout_1 (Dropout)          (None, 884, 16)           0         \n",
      "_________________________________________________________________\n",
      "conv1d_2 (Conv1D)            (None, 876, 32)           4640      \n",
      "_________________________________________________________________\n",
      "max_pooling1d_2 (MaxPooling1 (None, 292, 32)           0         \n",
      "_________________________________________________________________\n",
      "dropout_2 (Dropout)          (None, 292, 32)           0         \n",
      "_________________________________________________________________\n",
      "batch_normalization_1 (Batch (None, 292, 32)           128       \n",
      "_________________________________________________________________\n",
      "bidirectional (Bidirectional (None, 292, 128)          124416    \n",
      "_________________________________________________________________\n",
      "bidirectional_1 (Bidirection (None, 292, 128)          198144    \n",
      "_________________________________________________________________\n",
      "bidirectional_2 (Bidirection (None, 292, 128)          198144    \n",
      "_________________________________________________________________\n",
      "batch_normalization_2 (Batch (None, 292, 128)          512       \n",
      "_________________________________________________________________\n",
      "flatten (Flatten)            (None, 37376)             0         \n",
      "_________________________________________________________________\n",
      "dense (Dense)                (None, 256)               9568512   \n",
      "_________________________________________________________________\n",
      "dense_1 (Dense)              (None, 10)                2570      \n",
      "=================================================================\n",
      "Total params: 10,098,606\n",
      "Trainable params: 10,098,284\n",
      "Non-trainable params: 322\n",
      "_________________________________________________________________\n"
     ]
    }
   ],
   "source": [
    "model.compile(loss='categorical_crossentropy',\n",
    "              optimizer='nadam',\n",
    "              metrics=['accuracy'])\n",
    "\n",
    "model.summary()"
   ]
  },
  {
   "cell_type": "code",
   "execution_count": null,
   "metadata": {
    "colab": {
     "base_uri": "https://localhost:8080/"
    },
    "id": "f-LnBCxWrd7o",
    "outputId": "4a00374d-0109-4520-93ea-ad0bc9f91670"
   },
   "outputs": [
    {
     "name": "stdout",
     "output_type": "stream",
     "text": [
      "Epoch 1/100\n",
      "400/400 [==============================] - 864s 2s/step - loss: 4.4548 - accuracy: 0.1207 - val_loss: 2.2765 - val_accuracy: 0.1173\n",
      "\n",
      "Epoch 00001: val_accuracy improved from -inf to 0.11729, saving model to MIU_model.hdf5\n",
      "Epoch 2/100\n",
      "400/400 [==============================] - 851s 2s/step - loss: 2.2417 - accuracy: 0.1346 - val_loss: 2.2571 - val_accuracy: 0.1173\n",
      "\n",
      "Epoch 00002: val_accuracy did not improve from 0.11729\n",
      "Epoch 3/100\n",
      "400/400 [==============================] - 848s 2s/step - loss: 2.1138 - accuracy: 0.1729 - val_loss: 2.5446 - val_accuracy: 0.2137\n",
      "\n",
      "Epoch 00003: val_accuracy improved from 0.11729 to 0.21370, saving model to MIU_model.hdf5\n",
      "Epoch 4/100\n",
      "400/400 [==============================] - 847s 2s/step - loss: 1.5745 - accuracy: 0.3738 - val_loss: 1.5394 - val_accuracy: 0.4122\n",
      "\n",
      "Epoch 00004: val_accuracy improved from 0.21370 to 0.41215, saving model to MIU_model.hdf5\n",
      "Epoch 5/100\n",
      "400/400 [==============================] - 848s 2s/step - loss: 1.2187 - accuracy: 0.5520 - val_loss: 1.7773 - val_accuracy: 0.4436\n",
      "\n",
      "Epoch 00005: val_accuracy improved from 0.41215 to 0.44358, saving model to MIU_model.hdf5\n",
      "Epoch 6/100\n",
      "400/400 [==============================] - 846s 2s/step - loss: 0.9852 - accuracy: 0.6387 - val_loss: 1.0488 - val_accuracy: 0.6259\n",
      "\n",
      "Epoch 00006: val_accuracy improved from 0.44358 to 0.62585, saving model to MIU_model.hdf5\n",
      "Epoch 7/100\n",
      "400/400 [==============================] - 853s 2s/step - loss: 0.8369 - accuracy: 0.7040 - val_loss: 0.9629 - val_accuracy: 0.6866\n",
      "\n",
      "Epoch 00007: val_accuracy improved from 0.62585 to 0.68661, saving model to MIU_model.hdf5\n",
      "Epoch 8/100\n",
      "400/400 [==============================] - 847s 2s/step - loss: 0.7168 - accuracy: 0.7575 - val_loss: 0.7705 - val_accuracy: 0.7635\n",
      "\n",
      "Epoch 00008: val_accuracy improved from 0.68661 to 0.76355, saving model to MIU_model.hdf5\n",
      "Epoch 9/100\n",
      "400/400 [==============================] - 848s 2s/step - loss: 0.5755 - accuracy: 0.8140 - val_loss: 0.5576 - val_accuracy: 0.8173\n",
      "\n",
      "Epoch 00009: val_accuracy improved from 0.76355 to 0.81726, saving model to MIU_model.hdf5\n",
      "Epoch 10/100\n",
      "400/400 [==============================] - 847s 2s/step - loss: 0.4855 - accuracy: 0.8425 - val_loss: 0.6565 - val_accuracy: 0.7922\n",
      "\n",
      "Epoch 00010: val_accuracy did not improve from 0.81726\n",
      "Epoch 11/100\n",
      "400/400 [==============================] - 847s 2s/step - loss: 0.4343 - accuracy: 0.8562 - val_loss: 0.4496 - val_accuracy: 0.8623\n",
      "\n",
      "Epoch 00011: val_accuracy improved from 0.81726 to 0.86230, saving model to MIU_model.hdf5\n",
      "Epoch 12/100\n",
      "400/400 [==============================] - 848s 2s/step - loss: 0.3782 - accuracy: 0.8778 - val_loss: 0.3821 - val_accuracy: 0.8815\n",
      "\n",
      "Epoch 00012: val_accuracy improved from 0.86230 to 0.88154, saving model to MIU_model.hdf5\n",
      "Epoch 13/100\n",
      "400/400 [==============================] - 851s 2s/step - loss: 0.3413 - accuracy: 0.8912 - val_loss: 0.4055 - val_accuracy: 0.8773\n",
      "\n",
      "Epoch 00013: val_accuracy did not improve from 0.88154\n",
      "Epoch 14/100\n",
      "400/400 [==============================] - 800s 2s/step - loss: 0.3356 - accuracy: 0.8924 - val_loss: 0.3396 - val_accuracy: 0.8970\n",
      "\n",
      "Epoch 00014: val_accuracy improved from 0.88154 to 0.89702, saving model to MIU_model.hdf5\n",
      "Epoch 15/100\n",
      "400/400 [==============================] - 796s 2s/step - loss: 0.2983 - accuracy: 0.9023 - val_loss: 0.3907 - val_accuracy: 0.8846\n",
      "\n",
      "Epoch 00015: val_accuracy did not improve from 0.89702\n",
      "Epoch 16/100\n",
      "400/400 [==============================] - 840s 2s/step - loss: 0.2940 - accuracy: 0.9059 - val_loss: 0.4717 - val_accuracy: 0.8668\n",
      "\n",
      "Epoch 00016: val_accuracy did not improve from 0.89702\n",
      "Epoch 17/100\n",
      "400/400 [==============================] - 837s 2s/step - loss: 0.2567 - accuracy: 0.9135 - val_loss: 0.4640 - val_accuracy: 0.8595\n",
      "\n",
      "Epoch 00017: val_accuracy did not improve from 0.89702\n",
      "Epoch 18/100\n",
      "400/400 [==============================] - 840s 2s/step - loss: 0.2777 - accuracy: 0.9096 - val_loss: 0.3255 - val_accuracy: 0.9024\n",
      "\n",
      "Epoch 00018: val_accuracy improved from 0.89702 to 0.90242, saving model to MIU_model.hdf5\n",
      "Epoch 19/100\n",
      "400/400 [==============================] - 840s 2s/step - loss: 0.2253 - accuracy: 0.9272 - val_loss: 0.3993 - val_accuracy: 0.8858\n",
      "\n",
      "Epoch 00019: val_accuracy did not improve from 0.90242\n",
      "Epoch 20/100\n",
      "400/400 [==============================] - 840s 2s/step - loss: 0.2400 - accuracy: 0.9221 - val_loss: 0.2973 - val_accuracy: 0.9092\n",
      "\n",
      "Epoch 00020: val_accuracy improved from 0.90242 to 0.90922, saving model to MIU_model.hdf5\n",
      "Epoch 21/100\n",
      "400/400 [==============================] - 840s 2s/step - loss: 0.2151 - accuracy: 0.9288 - val_loss: 0.3292 - val_accuracy: 0.9069\n",
      "\n",
      "Epoch 00021: val_accuracy did not improve from 0.90922\n",
      "Epoch 22/100\n",
      "400/400 [==============================] - 838s 2s/step - loss: 0.2162 - accuracy: 0.9276 - val_loss: 0.4667 - val_accuracy: 0.8717\n",
      "\n",
      "Epoch 00022: val_accuracy did not improve from 0.90922\n",
      "Epoch 23/100\n",
      "400/400 [==============================] - 840s 2s/step - loss: 0.2198 - accuracy: 0.9260 - val_loss: 0.3936 - val_accuracy: 0.9097\n",
      "\n",
      "Epoch 00023: val_accuracy improved from 0.90922 to 0.90969, saving model to MIU_model.hdf5\n",
      "Epoch 24/100\n",
      "400/400 [==============================] - 841s 2s/step - loss: 0.2165 - accuracy: 0.9297 - val_loss: 0.3324 - val_accuracy: 0.9092\n",
      "\n",
      "Epoch 00024: val_accuracy did not improve from 0.90969\n",
      "Epoch 25/100\n",
      "400/400 [==============================] - 837s 2s/step - loss: 0.1787 - accuracy: 0.9377 - val_loss: 0.3309 - val_accuracy: 0.9064\n",
      "\n",
      "Epoch 00025: val_accuracy did not improve from 0.90969\n",
      "Epoch 26/100\n",
      "400/400 [==============================] - 839s 2s/step - loss: 0.1971 - accuracy: 0.9338 - val_loss: 0.3422 - val_accuracy: 0.9069\n",
      "\n",
      "Epoch 00026: val_accuracy did not improve from 0.90969\n",
      "Epoch 27/100\n",
      "400/400 [==============================] - 840s 2s/step - loss: 0.2121 - accuracy: 0.9305 - val_loss: 0.3128 - val_accuracy: 0.9125\n",
      "\n",
      "Epoch 00027: val_accuracy improved from 0.90969 to 0.91250, saving model to MIU_model.hdf5\n",
      "Epoch 28/100\n",
      "400/400 [==============================] - 840s 2s/step - loss: 0.2280 - accuracy: 0.9328 - val_loss: 0.3102 - val_accuracy: 0.9184\n",
      "\n",
      "Epoch 00028: val_accuracy improved from 0.91250 to 0.91837, saving model to MIU_model.hdf5\n",
      "Epoch 29/100\n",
      "400/400 [==============================] - 819s 2s/step - loss: 0.1710 - accuracy: 0.9439 - val_loss: 0.2894 - val_accuracy: 0.9134\n",
      "\n",
      "Epoch 00029: val_accuracy did not improve from 0.91837\n",
      "Epoch 30/100\n",
      "400/400 [==============================] - 773s 2s/step - loss: 0.1513 - accuracy: 0.9519 - val_loss: 0.3403 - val_accuracy: 0.9048\n",
      "\n",
      "Epoch 00030: val_accuracy did not improve from 0.91837\n",
      "Epoch 31/100\n",
      "400/400 [==============================] - 772s 2s/step - loss: 0.1485 - accuracy: 0.9512 - val_loss: 0.2966 - val_accuracy: 0.9242\n",
      "\n",
      "Epoch 00031: val_accuracy improved from 0.91837 to 0.92423, saving model to MIU_model.hdf5\n",
      "Epoch 32/100\n",
      "400/400 [==============================] - 776s 2s/step - loss: 0.1622 - accuracy: 0.9471 - val_loss: 0.3053 - val_accuracy: 0.9186\n",
      "\n",
      "Epoch 00032: val_accuracy did not improve from 0.92423\n",
      "Epoch 33/100\n",
      "400/400 [==============================] - 772s 2s/step - loss: 0.1629 - accuracy: 0.9480 - val_loss: 0.3098 - val_accuracy: 0.9146\n",
      "\n",
      "Epoch 00033: val_accuracy did not improve from 0.92423\n",
      "Epoch 34/100\n",
      "400/400 [==============================] - 770s 2s/step - loss: 0.1440 - accuracy: 0.9494 - val_loss: 0.3244 - val_accuracy: 0.9109\n",
      "\n",
      "Epoch 00034: val_accuracy did not improve from 0.92423\n",
      "Epoch 35/100\n",
      "400/400 [==============================] - 771s 2s/step - loss: 0.1672 - accuracy: 0.9463 - val_loss: 0.3498 - val_accuracy: 0.9240\n",
      "\n",
      "Epoch 00035: val_accuracy did not improve from 0.92423\n",
      "Epoch 36/100\n",
      "400/400 [==============================] - 773s 2s/step - loss: 0.1560 - accuracy: 0.9453 - val_loss: 0.3743 - val_accuracy: 0.8994\n",
      "\n",
      "Epoch 00036: val_accuracy did not improve from 0.92423\n",
      "Epoch 37/100\n",
      "400/400 [==============================] - 771s 2s/step - loss: 0.1502 - accuracy: 0.9497 - val_loss: 0.3486 - val_accuracy: 0.9116\n",
      "\n",
      "Epoch 00037: val_accuracy did not improve from 0.92423\n",
      "Epoch 38/100\n",
      "400/400 [==============================] - 772s 2s/step - loss: 0.1429 - accuracy: 0.9504 - val_loss: 0.3598 - val_accuracy: 0.9104\n",
      "\n",
      "Epoch 00038: val_accuracy did not improve from 0.92423\n",
      "Epoch 39/100\n",
      "400/400 [==============================] - 772s 2s/step - loss: 0.1452 - accuracy: 0.9509 - val_loss: 0.3666 - val_accuracy: 0.9076\n",
      "\n",
      "Epoch 00039: val_accuracy did not improve from 0.92423\n",
      "Epoch 00039: early stopping\n"
     ]
    }
   ],
   "source": [
    "es = EarlyStopping(monitor='val_loss', \n",
    "                           mode='min', \n",
    "                           verbose=1, \n",
    "                           patience=10, \n",
    "                           min_delta=0.0001)\n",
    "\n",
    "cp = ModelCheckpoint('MIU_model.hdf5', \n",
    "                             monitor='val_accuracy', \n",
    "                             verbose=1, \n",
    "                             save_best_only=True, \n",
    "                             mode='max')\n",
    "\n",
    "hist = model.fit(\n",
    "    x=x_train, \n",
    "    y=y_train,\n",
    "    epochs=50, \n",
    "    callbacks=[es, cp], \n",
    "    batch_size=32, \n",
    "    validation_data=(x_valid,y_valid)\n",
    ")"
   ]
  },
  {
   "cell_type": "code",
   "execution_count": null,
   "metadata": {
    "id": "fnBspw_XH6jY"
   },
   "outputs": [],
   "source": [
    "# save all data using pickle (only used on first run)\n",
    "pickle.dump(x_train, open( \"xtrain.p\", \"wb\" ))"
   ]
  },
  {
   "cell_type": "code",
   "execution_count": null,
   "metadata": {
    "id": "kaGuhPXaIB3K"
   },
   "outputs": [],
   "source": [
    "pickle.dump(y_train, open( \"ytrain.p\", \"wb\" ))"
   ]
  },
  {
   "cell_type": "code",
   "execution_count": null,
   "metadata": {
    "id": "inwT4lcmIHdb"
   },
   "outputs": [],
   "source": [
    "pickle.dump(x_valid, open( \"xvalid.p\", \"wb\" ))"
   ]
  },
  {
   "cell_type": "code",
   "execution_count": null,
   "metadata": {
    "id": "5lVRaPxFIMPz"
   },
   "outputs": [],
   "source": [
    "pickle.dump(y_valid, open( \"yvalid.p\", \"wb\" ))"
   ]
  },
  {
   "cell_type": "code",
   "execution_count": null,
   "metadata": {
    "id": "9Q3kj4VibQJy"
   },
   "outputs": [],
   "source": [
    "pickle.dump(x_test, open( \"xtest.p\", \"wb\" ))"
   ]
  },
  {
   "cell_type": "code",
   "execution_count": null,
   "metadata": {
    "id": "etsZP3mybQdP"
   },
   "outputs": [],
   "source": [
    "pickle.dump(y_test, open( \"ytest.p\", \"wb\" ))"
   ]
  },
  {
   "cell_type": "markdown",
   "metadata": {
    "id": "ocaqfpbcUaNN"
   },
   "source": [
    "## Performance evaluation:"
   ]
  },
  {
   "cell_type": "code",
   "execution_count": null,
   "metadata": {
    "colab": {
     "base_uri": "https://localhost:8080/",
     "height": 265
    },
    "id": "V3MbH-mxUbvt",
    "outputId": "cafb72d7-cb6f-4330-90a9-9b0633140101"
   },
   "outputs": [
    {
     "data": {
      "image/png": "[encoded data removed]",
      "text/plain": [
       "<Figure size 432x288 with 1 Axes>"
      ]
     },
     "metadata": {
      "needs_background": "light",
      "tags": []
     },
     "output_type": "display_data"
    }
   ],
   "source": [
    "from matplotlib import pyplot\n",
    "pyplot.plot(hist.history['loss'], label='train')\n",
    "pyplot.plot(hist.history['val_loss'], label='validation')\n",
    "pyplot.legend()\n",
    "pyplot.show()"
   ]
  },
  {
   "cell_type": "code",
   "execution_count": null,
   "metadata": {
    "colab": {
     "base_uri": "https://localhost:8080/",
     "height": 265
    },
    "id": "l0uNN5kmHnu1",
    "outputId": "10e63f65-a81a-42cd-ef56-99d29877dfa9"
   },
   "outputs": [
    {
     "data": {
      "image/png": "[encoded data removed]",
      "text/plain": [
       "<Figure size 432x288 with 1 Axes>"
      ]
     },
     "metadata": {
      "needs_background": "light",
      "tags": []
     },
     "output_type": "display_data"
    }
   ],
   "source": [
    "from matplotlib import pyplot\n",
    "pyplot.plot(hist.history['accuracy'], label='train')\n",
    "pyplot.plot(hist.history['val_accuracy'], label='validation')\n",
    "pyplot.legend()\n",
    "pyplot.show()"
   ]
  },
  {
   "cell_type": "markdown",
   "metadata": {
    "id": "B5SGgg9ocuds"
   },
   "source": [
    "## Accuracy over test set:"
   ]
  },
  {
   "cell_type": "code",
   "execution_count": null,
   "metadata": {
    "id": "3aZcfG0-c4Wc"
   },
   "outputs": [],
   "source": [
    "def predictMIU(audio):\n",
    "    p = model.predict(audio.reshape(1, 8000, 1))\n",
    "    index = np.argmax(p[0])\n",
    "    return targets[index]"
   ]
  },
  {
   "cell_type": "code",
   "execution_count": null,
   "metadata": {
    "colab": {
     "base_uri": "https://localhost:8080/"
    },
    "id": "04-sj03OhKIw",
    "outputId": "c2e099bd-03e8-4461-ab29-7eaa02de1f85"
   },
   "outputs": [
    {
     "name": "stdout",
     "output_type": "stream",
     "text": [
      "Accuracy over test set:  90.66385174759559\n"
     ]
    }
   ],
   "source": [
    "total = len(x_test)\n",
    "correct = 0\n",
    "for i in range(len(x_test)):\n",
    "  samples = x_test[i].ravel()\n",
    "  if (classes[np.argmax(y_test[i])] == predictMIU(samples)):\n",
    "    correct = correct + 1\n",
    "\n",
    "print(\"Accuracy over test set: \", correct / total * 100.)"
   ]
  }
 ],
 "metadata": {
  "colab": {
   "collapsed_sections": [],
   "name": "MUIU - projekat.ipynb",
   "provenance": []
  },
  "kernelspec": {
   "display_name": "Python 3",
   "language": "python",
   "name": "python3"
  },
  "language_info": {
   "codemirror_mode": {
    "name": "ipython",
    "version": 3
   },
   "file_extension": ".py",
   "mimetype": "text/x-python",
   "name": "python",
   "nbconvert_exporter": "python",
   "pygments_lexer": "ipython3",
   "version": "3.8.5"
  }
 },
 "nbformat": 4,
 "nbformat_minor": 1
}
